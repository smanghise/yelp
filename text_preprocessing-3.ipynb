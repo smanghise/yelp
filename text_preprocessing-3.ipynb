{
  "nbformat": 4,
  "nbformat_minor": 0,
  "metadata": {
    "colab": {
      "name": "text_preprocessing.ipynb",
      "provenance": [],
      "collapsed_sections": []
    },
    "kernelspec": {
      "display_name": "Python 3",
      "name": "python3"
    },
    "language_info": {
      "name": "python"
    }
  },
  "cells": [
    {
      "cell_type": "markdown",
      "metadata": {
        "id": "dGWjkKrK8UBs"
      },
      "source": [
        "# Data Pre-processing\n"
      ]
    },
    {
      "cell_type": "code",
      "metadata": {
        "colab": {
          "base_uri": "https://localhost:8080/"
        },
        "id": "tBN1oyW7zDlJ",
        "outputId": "e8541179-aa57-4fca-ddcb-f604b0a235fa"
      },
      "source": [
        "from google.colab import drive\n",
        "drive.mount('/content/drive')"
      ],
      "execution_count": null,
      "outputs": [
        {
          "output_type": "stream",
          "text": [
            "Mounted at /content/drive\n"
          ],
          "name": "stdout"
        }
      ]
    },
    {
      "cell_type": "code",
      "metadata": {
        "colab": {
          "base_uri": "https://localhost:8080/"
        },
        "id": "sp4FR0wmzNpV",
        "outputId": "095f79aa-679a-4711-d479-950b8c64004b"
      },
      "source": [
        "# This cell autoreloads the notebook when you change you python file code.\n",
        "# If you think the notebook did not reload, rerun this cell.\n",
        "%load_ext autoreload\n",
        "%autoreload 2\n",
        "!pip install jsonlines"
      ],
      "execution_count": null,
      "outputs": [
        {
          "output_type": "stream",
          "text": [
            "Collecting jsonlines\n",
            "  Downloading https://files.pythonhosted.org/packages/d4/58/06f430ff7607a2929f80f07bfd820acbc508a4e977542fefcc522cde9dff/jsonlines-2.0.0-py3-none-any.whl\n",
            "Installing collected packages: jsonlines\n",
            "Successfully installed jsonlines-2.0.0\n"
          ],
          "name": "stdout"
        }
      ]
    },
    {
      "cell_type": "code",
      "metadata": {
        "colab": {
          "base_uri": "https://localhost:8080/"
        },
        "id": "MDGLeK6UzO-x",
        "outputId": "396095e1-856b-41f1-87e6-7c7ad2218589"
      },
      "source": [
        "import json\n",
        "import pandas as pd\n",
        "import numpy as np\n",
        "import torch as th\n",
        "import jsonlines\n",
        "import nltk\n",
        "\n",
        "from matplotlib import pyplot as plt\n",
        "import matplotlib.pyplot as plt\n",
        "device = th.device(\"cuda\")\n",
        "nltk.download('punkt')"
      ],
      "execution_count": null,
      "outputs": [
        {
          "output_type": "stream",
          "text": [
            "[nltk_data] Downloading package punkt to /root/nltk_data...\n",
            "[nltk_data]   Unzipping tokenizers/punkt.zip.\n"
          ],
          "name": "stdout"
        },
        {
          "output_type": "execute_result",
          "data": {
            "text/plain": [
              "True"
            ]
          },
          "metadata": {
            "tags": []
          },
          "execution_count": 3
        }
      ]
    },
    {
      "cell_type": "code",
      "metadata": {
        "id": "TBT6PJOD8nwh"
      },
      "source": [
        "# trainingdatasetfiles = \"/content/yelp_review_training_dataset.jsonl\"\n",
        "# traindata = []\n",
        "# with open(trainingdatasetfiles, 'r', encoding='utf-8') as f:\n",
        "#   for item in jsonlines.Reader(f):\n",
        "#     # print(item)\n",
        "#     traindata.append(item)\n",
        "# df_trainingraw = pd.DataFrame(data)\n",
        "\n",
        "# df_trainingraw = pd.read_json(path_or_buf=trainingdatasetfiles, lines=True)\n",
        "# df_trainingraw\n",
        "# df_trainingraw['tokenized_sents'] = df_trainingraw['text'].apply(nltk.word_tokenize)\n",
        "# df_trainingraw.to_csv(\"tokenized_trainingentiredf.csv\")"
      ],
      "execution_count": null,
      "outputs": []
    },
    {
      "cell_type": "markdown",
      "metadata": {
        "id": "A_JLqr218mQp"
      },
      "source": [
        "Loading the tokenized dataset from previous dataframe. Then doing 70:30 randomized split for the validation and training data since it would take too much computation for k-fold cross validation."
      ]
    },
    {
      "cell_type": "code",
      "metadata": {
        "colab": {
          "base_uri": "https://localhost:8080/"
        },
        "id": "jM77s5up7WFC",
        "outputId": "610a10f9-2864-4418-b8ac-ca0ead2ceadf"
      },
      "source": [
        "#path = \"/content/drive/MyDrive/182_nlp/tokenized_trainingentiredf.csv\"\n",
        "path = \"/dataframes/tokenized_trainingentiredf.csv\"\n",
        "df_trainingraw = pd.read_csv(path)\n",
        "trainsize = len(df_trainingraw)\n",
        "indices = np.random.permutation(trainsize)\n",
        "trainingsize = trainsize - int(trainsize*.30)\n",
        "train_data = df_trainingraw.iloc[indices][:trainingsize].reset_index(drop=True)\n",
        "validation_data=df_trainingraw.iloc[indices][:trainingsize][trainingsize:].reset_index(drop=True)"
      ],
      "execution_count": null,
      "outputs": [
        {
          "output_type": "stream",
          "text": [
            "/usr/local/lib/python3.7/dist-packages/IPython/core/interactiveshell.py:2718: DtypeWarning: Columns (0) have mixed types.Specify dtype option on import or set low_memory=False.\n",
            "  interactivity=interactivity, compiler=compiler, result=result)\n"
          ],
          "name": "stderr"
        }
      ]
    },
    {
      "cell_type": "code",
      "metadata": {
        "id": "geb0zdyl-YqP",
        "colab": {
          "base_uri": "https://localhost:8080/",
          "height": 383
        },
        "outputId": "c07929e8-2e13-4b84-dfc9-fc4fe1fdc4fc"
      },
      "source": [
        "train_data.head()\n",
        "# train_data.to_csv(\"tokenized_traindf.csv\")"
      ],
      "execution_count": null,
      "outputs": [
        {
          "output_type": "execute_result",
          "data": {
            "text/html": [
              "<div>\n",
              "<style scoped>\n",
              "    .dataframe tbody tr th:only-of-type {\n",
              "        vertical-align: middle;\n",
              "    }\n",
              "\n",
              "    .dataframe tbody tr th {\n",
              "        vertical-align: top;\n",
              "    }\n",
              "\n",
              "    .dataframe thead th {\n",
              "        text-align: right;\n",
              "    }\n",
              "</style>\n",
              "<table border=\"1\" class=\"dataframe\">\n",
              "  <thead>\n",
              "    <tr style=\"text-align: right;\">\n",
              "      <th></th>\n",
              "      <th>Unnamed: 0</th>\n",
              "      <th>review_id</th>\n",
              "      <th>text</th>\n",
              "      <th>stars</th>\n",
              "      <th>tokenized_sents</th>\n",
              "    </tr>\n",
              "  </thead>\n",
              "  <tbody>\n",
              "    <tr>\n",
              "      <th>0</th>\n",
              "      <td>244548</td>\n",
              "      <td>B8cZ_G1ed12pPwIQ_VgWSA</td>\n",
              "      <td>I wish I had paid attention to my fellow Yelpe...</td>\n",
              "      <td>1.0</td>\n",
              "      <td>['I', 'wish', 'I', 'had', 'paid', 'attention',...</td>\n",
              "    </tr>\n",
              "    <tr>\n",
              "      <th>1</th>\n",
              "      <td>520683</td>\n",
              "      <td>i8g_RP0k65eldY0BHK4_ng</td>\n",
              "      <td>Kyle did a fantastic job. For starters, you ca...</td>\n",
              "      <td>5.0</td>\n",
              "      <td>['Kyle', 'did', 'a', 'fantastic', 'job', '.', ...</td>\n",
              "    </tr>\n",
              "    <tr>\n",
              "      <th>2</th>\n",
              "      <td>194029</td>\n",
              "      <td>igY5-0nyp6vI1kiH2B35vA</td>\n",
              "      <td>In a way I'm glad for all the low reviews here...</td>\n",
              "      <td>4.0</td>\n",
              "      <td>['In', 'a', 'way', 'I', \"'m\", 'glad', 'for', '...</td>\n",
              "    </tr>\n",
              "    <tr>\n",
              "      <th>3</th>\n",
              "      <td>378177</td>\n",
              "      <td>XGtCPyjfYB0XSd6QcMjZGw</td>\n",
              "      <td>The worst Uhaul location in the country, they ...</td>\n",
              "      <td>1.0</td>\n",
              "      <td>['The', 'worst', 'Uhaul', 'location', 'in', 't...</td>\n",
              "    </tr>\n",
              "    <tr>\n",
              "      <th>4</th>\n",
              "      <td>509672</td>\n",
              "      <td>klCSXlp2_-W_G88h6t3l1A</td>\n",
              "      <td>I've been coming here for about 2 years, and I...</td>\n",
              "      <td>5.0</td>\n",
              "      <td>['I', \"'ve\", 'been', 'coming', 'here', 'for', ...</td>\n",
              "    </tr>\n",
              "  </tbody>\n",
              "</table>\n",
              "</div>"
            ],
            "text/plain": [
              "  Unnamed: 0  ...                                    tokenized_sents\n",
              "0     244548  ...  ['I', 'wish', 'I', 'had', 'paid', 'attention',...\n",
              "1     520683  ...  ['Kyle', 'did', 'a', 'fantastic', 'job', '.', ...\n",
              "2     194029  ...  ['In', 'a', 'way', 'I', \"'m\", 'glad', 'for', '...\n",
              "3     378177  ...  ['The', 'worst', 'Uhaul', 'location', 'in', 't...\n",
              "4     509672  ...  ['I', \"'ve\", 'been', 'coming', 'here', 'for', ...\n",
              "\n",
              "[5 rows x 5 columns]"
            ]
          },
          "metadata": {
            "tags": []
          },
          "execution_count": 6
        }
      ]
    },
    {
      "cell_type": "code",
      "metadata": {
        "id": "6TUGPK6MBud-",
        "colab": {
          "base_uri": "https://localhost:8080/",
          "height": 443
        },
        "outputId": "951e048f-03aa-46c5-fed4-2b5032c2614c"
      },
      "source": [
        "# Visualize distribution of star ratings\n",
        "new_df = train_data.groupby(['stars']).count()[['review_id']].rename(columns = {'review_id': 'Count'})\n",
        "new_df.plot.pie(y = 'Count', autopct='%1.1f%%', figsize = (7,7), title = 'Star Rating Distribution')"
      ],
      "execution_count": null,
      "outputs": [
        {
          "output_type": "execute_result",
          "data": {
            "text/plain": [
              "<matplotlib.axes._subplots.AxesSubplot at 0x7f37a1521a10>"
            ]
          },
          "metadata": {
            "tags": []
          },
          "execution_count": 8
        },
        {
          "output_type": "display_data",
          "data": {
            "image/png": "[encoded data removed]",
            "text/plain": [
              "<Figure size 504x504 with 1 Axes>"
            ]
          },
          "metadata": {
            "tags": []
          }
        }
      ]
    },
    {
      "cell_type": "code",
      "metadata": {
        "id": "USSH79kToPnV",
        "colab": {
          "base_uri": "https://localhost:8080/",
          "height": 323
        },
        "outputId": "a3fc8489-0a5a-4a82-e8e5-b55060c88a8e"
      },
      "source": [
        "# tokenize reviews\n",
        "df = train_data.copy()[['text', 'stars']]\n",
        "mini_df = df[1:10]\n",
        "mini_df"
      ],
      "execution_count": null,
      "outputs": [
        {
          "output_type": "execute_result",
          "data": {
            "text/html": [
              "<div>\n",
              "<style scoped>\n",
              "    .dataframe tbody tr th:only-of-type {\n",
              "        vertical-align: middle;\n",
              "    }\n",
              "\n",
              "    .dataframe tbody tr th {\n",
              "        vertical-align: top;\n",
              "    }\n",
              "\n",
              "    .dataframe thead th {\n",
              "        text-align: right;\n",
              "    }\n",
              "</style>\n",
              "<table border=\"1\" class=\"dataframe\">\n",
              "  <thead>\n",
              "    <tr style=\"text-align: right;\">\n",
              "      <th></th>\n",
              "      <th>text</th>\n",
              "      <th>stars</th>\n",
              "    </tr>\n",
              "  </thead>\n",
              "  <tbody>\n",
              "    <tr>\n",
              "      <th>1</th>\n",
              "      <td>Kyle did a fantastic job. For starters, you ca...</td>\n",
              "      <td>5.0</td>\n",
              "    </tr>\n",
              "    <tr>\n",
              "      <th>2</th>\n",
              "      <td>In a way I'm glad for all the low reviews here...</td>\n",
              "      <td>4.0</td>\n",
              "    </tr>\n",
              "    <tr>\n",
              "      <th>3</th>\n",
              "      <td>The worst Uhaul location in the country, they ...</td>\n",
              "      <td>1.0</td>\n",
              "    </tr>\n",
              "    <tr>\n",
              "      <th>4</th>\n",
              "      <td>I've been coming here for about 2 years, and I...</td>\n",
              "      <td>5.0</td>\n",
              "    </tr>\n",
              "    <tr>\n",
              "      <th>5</th>\n",
              "      <td>Great service! We're visiting from The States ...</td>\n",
              "      <td>5.0</td>\n",
              "    </tr>\n",
              "    <tr>\n",
              "      <th>6</th>\n",
              "      <td>Wow! Awesome service and professionalism! Afte...</td>\n",
              "      <td>5.0</td>\n",
              "    </tr>\n",
              "    <tr>\n",
              "      <th>7</th>\n",
              "      <td>I have to say my experience from beginning to ...</td>\n",
              "      <td>5.0</td>\n",
              "    </tr>\n",
              "    <tr>\n",
              "      <th>8</th>\n",
              "      <td>Drove by saw this new shop, decide to eat here...</td>\n",
              "      <td>1.0</td>\n",
              "    </tr>\n",
              "    <tr>\n",
              "      <th>9</th>\n",
              "      <td>I love this target! The store is always clean ...</td>\n",
              "      <td>5.0</td>\n",
              "    </tr>\n",
              "  </tbody>\n",
              "</table>\n",
              "</div>"
            ],
            "text/plain": [
              "                                                text  stars\n",
              "1  Kyle did a fantastic job. For starters, you ca...    5.0\n",
              "2  In a way I'm glad for all the low reviews here...    4.0\n",
              "3  The worst Uhaul location in the country, they ...    1.0\n",
              "4  I've been coming here for about 2 years, and I...    5.0\n",
              "5  Great service! We're visiting from The States ...    5.0\n",
              "6  Wow! Awesome service and professionalism! Afte...    5.0\n",
              "7  I have to say my experience from beginning to ...    5.0\n",
              "8  Drove by saw this new shop, decide to eat here...    1.0\n",
              "9  I love this target! The store is always clean ...    5.0"
            ]
          },
          "metadata": {
            "tags": []
          },
          "execution_count": 9
        }
      ]
    },
    {
      "cell_type": "code",
      "metadata": {
        "id": "CWGqyh-YVtao",
        "colab": {
          "base_uri": "https://localhost:8080/"
        },
        "outputId": "a7d7d1fe-9ced-498a-a05b-025dd387e2de"
      },
      "source": [
        "nltk.download('stopwords')\n",
        "from nltk.corpus import stopwords\n",
        "stop = stopwords.words('english')\n",
        "stop.extend(['I', 'is',])\n",
        "import string\n",
        "!pip install contractions\n",
        "import contractions\n",
        "\n",
        "# expand contractions\n",
        "mini_df['cleaned'] = mini_df['text'].str.lower().apply(contractions.fix)\n",
        "\n",
        "# remove stop words\n",
        "mini_df['cleaned'] = mini_df['cleaned'].apply(lambda x: ' '.join([word for word in x.split() if word not in stop]))\n",
        "\n",
        "# remove numbers + escape characters\n",
        "mini_df['cleaned'] = mini_df['cleaned'].apply(lambda x: ' '.join([word for word in x.split() if word.isalpha()]))\n",
        "\n",
        "# remove punctuation\n",
        "mini_df['cleaned'] = mini_df['cleaned'].apply(lambda x: ''.join([item for item in x if item not in string.punctuation]))\n",
        "\n",
        "# tokenize after cleaning\n",
        "mini_df['tokenized'] = mini_df['cleaned'].apply(nltk.word_tokenize)"
      ],
      "execution_count": null,
      "outputs": [
        {
          "output_type": "stream",
          "text": [
            "[nltk_data] Downloading package stopwords to /root/nltk_data...\n",
            "[nltk_data]   Package stopwords is already up-to-date!\n",
            "Requirement already satisfied: contractions in /usr/local/lib/python3.7/dist-packages (0.0.48)\n",
            "Requirement already satisfied: textsearch>=0.0.21 in /usr/local/lib/python3.7/dist-packages (from contractions) (0.0.21)\n",
            "Requirement already satisfied: pyahocorasick in /usr/local/lib/python3.7/dist-packages (from textsearch>=0.0.21->contractions) (1.4.2)\n",
            "Requirement already satisfied: anyascii in /usr/local/lib/python3.7/dist-packages (from textsearch>=0.0.21->contractions) (0.2.0)\n"
          ],
          "name": "stdout"
        },
        {
          "output_type": "stream",
          "text": [
            "/usr/local/lib/python3.7/dist-packages/ipykernel_launcher.py:10: SettingWithCopyWarning: \n",
            "A value is trying to be set on a copy of a slice from a DataFrame.\n",
            "Try using .loc[row_indexer,col_indexer] = value instead\n",
            "\n",
            "See the caveats in the documentation: https://pandas.pydata.org/pandas-docs/stable/user_guide/indexing.html#returning-a-view-versus-a-copy\n",
            "  # Remove the CWD from sys.path while we load stuff.\n",
            "/usr/local/lib/python3.7/dist-packages/ipykernel_launcher.py:13: SettingWithCopyWarning: \n",
            "A value is trying to be set on a copy of a slice from a DataFrame.\n",
            "Try using .loc[row_indexer,col_indexer] = value instead\n",
            "\n",
            "See the caveats in the documentation: https://pandas.pydata.org/pandas-docs/stable/user_guide/indexing.html#returning-a-view-versus-a-copy\n",
            "  del sys.path[0]\n",
            "/usr/local/lib/python3.7/dist-packages/ipykernel_launcher.py:16: SettingWithCopyWarning: \n",
            "A value is trying to be set on a copy of a slice from a DataFrame.\n",
            "Try using .loc[row_indexer,col_indexer] = value instead\n",
            "\n",
            "See the caveats in the documentation: https://pandas.pydata.org/pandas-docs/stable/user_guide/indexing.html#returning-a-view-versus-a-copy\n",
            "  app.launch_new_instance()\n",
            "/usr/local/lib/python3.7/dist-packages/ipykernel_launcher.py:19: SettingWithCopyWarning: \n",
            "A value is trying to be set on a copy of a slice from a DataFrame.\n",
            "Try using .loc[row_indexer,col_indexer] = value instead\n",
            "\n",
            "See the caveats in the documentation: https://pandas.pydata.org/pandas-docs/stable/user_guide/indexing.html#returning-a-view-versus-a-copy\n",
            "/usr/local/lib/python3.7/dist-packages/ipykernel_launcher.py:22: SettingWithCopyWarning: \n",
            "A value is trying to be set on a copy of a slice from a DataFrame.\n",
            "Try using .loc[row_indexer,col_indexer] = value instead\n",
            "\n",
            "See the caveats in the documentation: https://pandas.pydata.org/pandas-docs/stable/user_guide/indexing.html#returning-a-view-versus-a-copy\n"
          ],
          "name": "stderr"
        }
      ]
    },
    {
      "cell_type": "code",
      "metadata": {
        "colab": {
          "base_uri": "https://localhost:8080/",
          "height": 521
        },
        "id": "T10yv1SfclM2",
        "outputId": "652317ad-b080-4c76-af14-da09934a71f4"
      },
      "source": [
        "mini_df"
      ],
      "execution_count": null,
      "outputs": [
        {
          "output_type": "execute_result",
          "data": {
            "text/html": [
              "<div>\n",
              "<style scoped>\n",
              "    .dataframe tbody tr th:only-of-type {\n",
              "        vertical-align: middle;\n",
              "    }\n",
              "\n",
              "    .dataframe tbody tr th {\n",
              "        vertical-align: top;\n",
              "    }\n",
              "\n",
              "    .dataframe thead th {\n",
              "        text-align: right;\n",
              "    }\n",
              "</style>\n",
              "<table border=\"1\" class=\"dataframe\">\n",
              "  <thead>\n",
              "    <tr style=\"text-align: right;\">\n",
              "      <th></th>\n",
              "      <th>text</th>\n",
              "      <th>stars</th>\n",
              "      <th>cleaned</th>\n",
              "      <th>tokenized</th>\n",
              "    </tr>\n",
              "  </thead>\n",
              "  <tbody>\n",
              "    <tr>\n",
              "      <th>1</th>\n",
              "      <td>Kyle did a fantastic job. For starters, you ca...</td>\n",
              "      <td>5.0</td>\n",
              "      <td>kyle fantastic schedule appointment completely...</td>\n",
              "      <td>[kyle, fantastic, schedule, appointment, compl...</td>\n",
              "    </tr>\n",
              "    <tr>\n",
              "      <th>2</th>\n",
              "      <td>In a way I'm glad for all the low reviews here...</td>\n",
              "      <td>4.0</td>\n",
              "      <td>way glad low reviews keeps crowd actually one ...</td>\n",
              "      <td>[way, glad, low, reviews, keeps, crowd, actual...</td>\n",
              "    </tr>\n",
              "    <tr>\n",
              "      <th>3</th>\n",
              "      <td>The worst Uhaul location in the country, they ...</td>\n",
              "      <td>1.0</td>\n",
              "      <td>worst uhaul location lie put fuel believe some...</td>\n",
              "      <td>[worst, uhaul, location, lie, put, fuel, belie...</td>\n",
              "    </tr>\n",
              "    <tr>\n",
              "      <th>4</th>\n",
              "      <td>I've been coming here for about 2 years, and I...</td>\n",
              "      <td>5.0</td>\n",
              "      <td>coming great haircut every hands best value ha...</td>\n",
              "      <td>[coming, great, haircut, every, hands, best, v...</td>\n",
              "    </tr>\n",
              "    <tr>\n",
              "      <th>5</th>\n",
              "      <td>Great service! We're visiting from The States ...</td>\n",
              "      <td>5.0</td>\n",
              "      <td>great visiting states friend cracked screen fr...</td>\n",
              "      <td>[great, visiting, states, friend, cracked, scr...</td>\n",
              "    </tr>\n",
              "    <tr>\n",
              "      <th>6</th>\n",
              "      <td>Wow! Awesome service and professionalism! Afte...</td>\n",
              "      <td>5.0</td>\n",
              "      <td>awesome service scheduling week due crazy guys...</td>\n",
              "      <td>[awesome, service, scheduling, week, due, craz...</td>\n",
              "    </tr>\n",
              "    <tr>\n",
              "      <th>7</th>\n",
              "      <td>I have to say my experience from beginning to ...</td>\n",
              "      <td>5.0</td>\n",
              "      <td>say experience beginning end nothing less comi...</td>\n",
              "      <td>[say, experience, beginning, end, nothing, les...</td>\n",
              "    </tr>\n",
              "    <tr>\n",
              "      <th>8</th>\n",
              "      <td>Drove by saw this new shop, decide to eat here...</td>\n",
              "      <td>1.0</td>\n",
              "      <td>drove saw new decide eat middle black hair stu...</td>\n",
              "      <td>[drove, saw, new, decide, eat, middle, black, ...</td>\n",
              "    </tr>\n",
              "    <tr>\n",
              "      <th>9</th>\n",
              "      <td>I love this target! The store is always clean ...</td>\n",
              "      <td>5.0</td>\n",
              "      <td>love store always clean fully staff always sup...</td>\n",
              "      <td>[love, store, always, clean, fully, staff, alw...</td>\n",
              "    </tr>\n",
              "  </tbody>\n",
              "</table>\n",
              "</div>"
            ],
            "text/plain": [
              "                                                text  ...                                          tokenized\n",
              "1  Kyle did a fantastic job. For starters, you ca...  ...  [kyle, fantastic, schedule, appointment, compl...\n",
              "2  In a way I'm glad for all the low reviews here...  ...  [way, glad, low, reviews, keeps, crowd, actual...\n",
              "3  The worst Uhaul location in the country, they ...  ...  [worst, uhaul, location, lie, put, fuel, belie...\n",
              "4  I've been coming here for about 2 years, and I...  ...  [coming, great, haircut, every, hands, best, v...\n",
              "5  Great service! We're visiting from The States ...  ...  [great, visiting, states, friend, cracked, scr...\n",
              "6  Wow! Awesome service and professionalism! Afte...  ...  [awesome, service, scheduling, week, due, craz...\n",
              "7  I have to say my experience from beginning to ...  ...  [say, experience, beginning, end, nothing, les...\n",
              "8  Drove by saw this new shop, decide to eat here...  ...  [drove, saw, new, decide, eat, middle, black, ...\n",
              "9  I love this target! The store is always clean ...  ...  [love, store, always, clean, fully, staff, alw...\n",
              "\n",
              "[9 rows x 4 columns]"
            ]
          },
          "metadata": {
            "tags": []
          },
          "execution_count": 13
        }
      ]
    },
    {
      "cell_type": "code",
      "metadata": {
        "id": "yCCiKZ7tdbxQ"
      },
      "source": [
        "# function to clean + tokenize text reviews\n",
        "def clean_data(df):\n",
        "  df = df.copy()[['text', 'stars']]\n",
        "\n",
        "  # expand contractions\n",
        "  df['cleaned'] = df['text'].str.lower().apply(contractions.fix)\n",
        "\n",
        "  # remove stop words\n",
        "  df['cleaned'] = df['cleaned'].apply(lambda x: ' '.join([word for word in x.split() if word not in stop]))\n",
        "\n",
        "  # remove numbers + escape characters\n",
        "  df['cleaned'] = df['cleaned'].apply(lambda x: ' '.join([word for word in x.split() if word.isalpha()]))\n",
        "\n",
        "  # remove punctuation\n",
        "  df['cleaned'] = df['cleaned'].apply(lambda x: ''.join([item for item in x if item not in string.punctuation]))\n",
        "\n",
        "  # tokenize after cleaning\n",
        "  df['tokenized'] = df['cleaned'].apply(nltk.word_tokenize)\n",
        "\n",
        "  return df[['text', 'stars', 'tokenized']]\n",
        "\n",
        "cleaned_data = clean_data(mini_df)"
      ],
      "execution_count": null,
      "outputs": []
    },
    {
      "cell_type": "code",
      "metadata": {
        "colab": {
          "base_uri": "https://localhost:8080/",
          "height": 472
        },
        "id": "QbfAH18Fe9XR",
        "outputId": "38892e6a-82fd-46a2-820c-9be324089188"
      },
      "source": [
        "cleaned_data"
      ],
      "execution_count": null,
      "outputs": [
        {
          "output_type": "execute_result",
          "data": {
            "text/html": [
              "<div>\n",
              "<style scoped>\n",
              "    .dataframe tbody tr th:only-of-type {\n",
              "        vertical-align: middle;\n",
              "    }\n",
              "\n",
              "    .dataframe tbody tr th {\n",
              "        vertical-align: top;\n",
              "    }\n",
              "\n",
              "    .dataframe thead th {\n",
              "        text-align: right;\n",
              "    }\n",
              "</style>\n",
              "<table border=\"1\" class=\"dataframe\">\n",
              "  <thead>\n",
              "    <tr style=\"text-align: right;\">\n",
              "      <th></th>\n",
              "      <th>text</th>\n",
              "      <th>stars</th>\n",
              "      <th>tokenized</th>\n",
              "    </tr>\n",
              "  </thead>\n",
              "  <tbody>\n",
              "    <tr>\n",
              "      <th>1</th>\n",
              "      <td>Kyle did a fantastic job. For starters, you ca...</td>\n",
              "      <td>5.0</td>\n",
              "      <td>[kyle, fantastic, schedule, appointment, compl...</td>\n",
              "    </tr>\n",
              "    <tr>\n",
              "      <th>2</th>\n",
              "      <td>In a way I'm glad for all the low reviews here...</td>\n",
              "      <td>4.0</td>\n",
              "      <td>[way, glad, low, reviews, keeps, crowd, actual...</td>\n",
              "    </tr>\n",
              "    <tr>\n",
              "      <th>3</th>\n",
              "      <td>The worst Uhaul location in the country, they ...</td>\n",
              "      <td>1.0</td>\n",
              "      <td>[worst, uhaul, location, lie, put, fuel, belie...</td>\n",
              "    </tr>\n",
              "    <tr>\n",
              "      <th>4</th>\n",
              "      <td>I've been coming here for about 2 years, and I...</td>\n",
              "      <td>5.0</td>\n",
              "      <td>[coming, great, haircut, every, hands, best, v...</td>\n",
              "    </tr>\n",
              "    <tr>\n",
              "      <th>5</th>\n",
              "      <td>Great service! We're visiting from The States ...</td>\n",
              "      <td>5.0</td>\n",
              "      <td>[great, visiting, states, friend, cracked, scr...</td>\n",
              "    </tr>\n",
              "    <tr>\n",
              "      <th>6</th>\n",
              "      <td>Wow! Awesome service and professionalism! Afte...</td>\n",
              "      <td>5.0</td>\n",
              "      <td>[awesome, service, scheduling, week, due, craz...</td>\n",
              "    </tr>\n",
              "    <tr>\n",
              "      <th>7</th>\n",
              "      <td>I have to say my experience from beginning to ...</td>\n",
              "      <td>5.0</td>\n",
              "      <td>[say, experience, beginning, end, nothing, les...</td>\n",
              "    </tr>\n",
              "    <tr>\n",
              "      <th>8</th>\n",
              "      <td>Drove by saw this new shop, decide to eat here...</td>\n",
              "      <td>1.0</td>\n",
              "      <td>[drove, saw, new, decide, eat, middle, black, ...</td>\n",
              "    </tr>\n",
              "    <tr>\n",
              "      <th>9</th>\n",
              "      <td>I love this target! The store is always clean ...</td>\n",
              "      <td>5.0</td>\n",
              "      <td>[love, store, always, clean, fully, staff, alw...</td>\n",
              "    </tr>\n",
              "  </tbody>\n",
              "</table>\n",
              "</div>"
            ],
            "text/plain": [
              "                                                text  ...                                          tokenized\n",
              "1  Kyle did a fantastic job. For starters, you ca...  ...  [kyle, fantastic, schedule, appointment, compl...\n",
              "2  In a way I'm glad for all the low reviews here...  ...  [way, glad, low, reviews, keeps, crowd, actual...\n",
              "3  The worst Uhaul location in the country, they ...  ...  [worst, uhaul, location, lie, put, fuel, belie...\n",
              "4  I've been coming here for about 2 years, and I...  ...  [coming, great, haircut, every, hands, best, v...\n",
              "5  Great service! We're visiting from The States ...  ...  [great, visiting, states, friend, cracked, scr...\n",
              "6  Wow! Awesome service and professionalism! Afte...  ...  [awesome, service, scheduling, week, due, craz...\n",
              "7  I have to say my experience from beginning to ...  ...  [say, experience, beginning, end, nothing, les...\n",
              "8  Drove by saw this new shop, decide to eat here...  ...  [drove, saw, new, decide, eat, middle, black, ...\n",
              "9  I love this target! The store is always clean ...  ...  [love, store, always, clean, fully, staff, alw...\n",
              "\n",
              "[9 rows x 3 columns]"
            ]
          },
          "metadata": {
            "tags": []
          },
          "execution_count": 42
        }
      ]
    },
    {
      "cell_type": "code",
      "metadata": {
        "id": "7V7oQHT4KSaT",
        "colab": {
          "base_uri": "https://localhost:8080/"
        },
        "outputId": "adbb2e44-81c6-4013-8038-72ac0baa4ebd"
      },
      "source": [
        "# stemming/lemmatization (change words to base words)\n",
        "\n",
        "import nltk\n",
        "from nltk.tag import pos_tag\n",
        "from nltk.stem.wordnet import WordNetLemmatizer\n",
        "nltk.download('wordnet')\n",
        "nltk.download('averaged_perceptron_tagger')\n",
        "\n",
        "# function from link in comment\n",
        "def lemmatize_sentence(tokens):\n",
        "    lemmatizer = WordNetLemmatizer()\n",
        "    lemmatized_sentence = []\n",
        "    for word, tag in pos_tag(tokens):\n",
        "        if tag.startswith('NN'):\n",
        "            pos = 'n'\n",
        "        elif tag.startswith('VB'):\n",
        "            pos = 'v'\n",
        "        else:\n",
        "            pos = 'a'\n",
        "        lemmatized_sentence.append(lemmatizer.lemmatize(word, pos))\n",
        "    return lemmatized_sentence, ' '.join(lemmatized_sentence)"
      ],
      "execution_count": null,
      "outputs": [
        {
          "output_type": "stream",
          "text": [
            "[nltk_data] Downloading package wordnet to /root/nltk_data...\n",
            "[nltk_data]   Unzipping corpora/wordnet.zip.\n",
            "[nltk_data] Downloading package averaged_perceptron_tagger to\n",
            "[nltk_data]     /root/nltk_data...\n",
            "[nltk_data]   Unzipping taggers/averaged_perceptron_tagger.zip.\n"
          ],
          "name": "stdout"
        }
      ]
    },
    {
      "cell_type": "code",
      "metadata": {
        "colab": {
          "base_uri": "https://localhost:8080/"
        },
        "id": "4BPPim5mc1cn",
        "outputId": "870ba95d-a95e-455f-89e2-023072a645e2"
      },
      "source": [
        "results = mini_df['tokenized'].apply(lemmatize_sentence)\n",
        "mini_df['stemmed'] = list(zip(*results))[0]\n",
        "mini_df['stemmed_clean'] = list(zip(*results))[1]\n",
        "mini_df[['text', 'stars', 'stemmed_clean']].to_csv(\"lemma_tokenizeddf.csv\")"
      ],
      "execution_count": null,
      "outputs": [
        {
          "output_type": "stream",
          "text": [
            "/usr/local/lib/python3.7/dist-packages/numpy/core/_asarray.py:83: VisibleDeprecationWarning: Creating an ndarray from ragged nested sequences (which is a list-or-tuple of lists-or-tuples-or ndarrays with different lengths or shapes) is deprecated. If you meant to do this, you must specify 'dtype=object' when creating the ndarray\n",
            "  return array(a, dtype, copy=False, order=order)\n",
            "/usr/local/lib/python3.7/dist-packages/ipykernel_launcher.py:2: SettingWithCopyWarning: \n",
            "A value is trying to be set on a copy of a slice from a DataFrame.\n",
            "Try using .loc[row_indexer,col_indexer] = value instead\n",
            "\n",
            "See the caveats in the documentation: https://pandas.pydata.org/pandas-docs/stable/user_guide/indexing.html#returning-a-view-versus-a-copy\n",
            "  \n",
            "/usr/local/lib/python3.7/dist-packages/ipykernel_launcher.py:3: SettingWithCopyWarning: \n",
            "A value is trying to be set on a copy of a slice from a DataFrame.\n",
            "Try using .loc[row_indexer,col_indexer] = value instead\n",
            "\n",
            "See the caveats in the documentation: https://pandas.pydata.org/pandas-docs/stable/user_guide/indexing.html#returning-a-view-versus-a-copy\n",
            "  This is separate from the ipykernel package so we can avoid doing imports until\n"
          ],
          "name": "stderr"
        }
      ]
    },
    {
      "cell_type": "code",
      "metadata": {
        "colab": {
          "base_uri": "https://localhost:8080/",
          "height": 835
        },
        "id": "oQNqt1-siP8x",
        "outputId": "d22f77a3-d227-4dbc-b904-63a330a5d477"
      },
      "source": [
        "mini_df"
      ],
      "execution_count": null,
      "outputs": [
        {
          "output_type": "execute_result",
          "data": {
            "text/html": [
              "<div>\n",
              "<style scoped>\n",
              "    .dataframe tbody tr th:only-of-type {\n",
              "        vertical-align: middle;\n",
              "    }\n",
              "\n",
              "    .dataframe tbody tr th {\n",
              "        vertical-align: top;\n",
              "    }\n",
              "\n",
              "    .dataframe thead th {\n",
              "        text-align: right;\n",
              "    }\n",
              "</style>\n",
              "<table border=\"1\" class=\"dataframe\">\n",
              "  <thead>\n",
              "    <tr style=\"text-align: right;\">\n",
              "      <th></th>\n",
              "      <th>text</th>\n",
              "      <th>stars</th>\n",
              "      <th>cleaned</th>\n",
              "      <th>tokenized</th>\n",
              "      <th>stemmed</th>\n",
              "      <th>stemmed_clean</th>\n",
              "    </tr>\n",
              "  </thead>\n",
              "  <tbody>\n",
              "    <tr>\n",
              "      <th>1</th>\n",
              "      <td>Kyle did a fantastic job. For starters, you ca...</td>\n",
              "      <td>5.0</td>\n",
              "      <td>kyle fantastic schedule appointment completely...</td>\n",
              "      <td>[kyle, fantastic, schedule, appointment, compl...</td>\n",
              "      <td>[kyle, fantastic, schedule, appointment, compl...</td>\n",
              "      <td>kyle fantastic schedule appointment completely...</td>\n",
              "    </tr>\n",
              "    <tr>\n",
              "      <th>2</th>\n",
              "      <td>In a way I'm glad for all the low reviews here...</td>\n",
              "      <td>4.0</td>\n",
              "      <td>way glad low reviews keeps crowd actually one ...</td>\n",
              "      <td>[way, glad, low, reviews, keeps, crowd, actual...</td>\n",
              "      <td>[way, glad, low, review, keep, crowd, actually...</td>\n",
              "      <td>way glad low review keep crowd actually one fa...</td>\n",
              "    </tr>\n",
              "    <tr>\n",
              "      <th>3</th>\n",
              "      <td>The worst Uhaul location in the country, they ...</td>\n",
              "      <td>1.0</td>\n",
              "      <td>worst uhaul location lie put fuel believe some...</td>\n",
              "      <td>[worst, uhaul, location, lie, put, fuel, belie...</td>\n",
              "      <td>[bad, uhaul, location, lie, put, fuel, believe...</td>\n",
              "      <td>bad uhaul location lie put fuel believe someth...</td>\n",
              "    </tr>\n",
              "    <tr>\n",
              "      <th>4</th>\n",
              "      <td>I've been coming here for about 2 years, and I...</td>\n",
              "      <td>5.0</td>\n",
              "      <td>coming great haircut every hands best value ha...</td>\n",
              "      <td>[coming, great, haircut, every, hands, best, v...</td>\n",
              "      <td>[come, great, haircut, every, hand, best, valu...</td>\n",
              "      <td>come great haircut every hand best value hair cut</td>\n",
              "    </tr>\n",
              "    <tr>\n",
              "      <th>5</th>\n",
              "      <td>Great service! We're visiting from The States ...</td>\n",
              "      <td>5.0</td>\n",
              "      <td>great visiting states friend cracked screen fr...</td>\n",
              "      <td>[great, visiting, states, friend, cracked, scr...</td>\n",
              "      <td>[great, visit, state, friend, crack, screen, f...</td>\n",
              "      <td>great visit state friend crack screen freak ca...</td>\n",
              "    </tr>\n",
              "    <tr>\n",
              "      <th>6</th>\n",
              "      <td>Wow! Awesome service and professionalism! Afte...</td>\n",
              "      <td>5.0</td>\n",
              "      <td>awesome service scheduling week due crazy guys...</td>\n",
              "      <td>[awesome, service, scheduling, week, due, craz...</td>\n",
              "      <td>[awesome, service, schedule, week, due, crazy,...</td>\n",
              "      <td>awesome service schedule week due crazy guy sh...</td>\n",
              "    </tr>\n",
              "    <tr>\n",
              "      <th>7</th>\n",
              "      <td>I have to say my experience from beginning to ...</td>\n",
              "      <td>5.0</td>\n",
              "      <td>say experience beginning end nothing less comi...</td>\n",
              "      <td>[say, experience, beginning, end, nothing, les...</td>\n",
              "      <td>[say, experience, begin, end, nothing, less, c...</td>\n",
              "      <td>say experience begin end nothing less come war...</td>\n",
              "    </tr>\n",
              "    <tr>\n",
              "      <th>8</th>\n",
              "      <td>Drove by saw this new shop, decide to eat here...</td>\n",
              "      <td>1.0</td>\n",
              "      <td>drove saw new decide eat middle black hair stu...</td>\n",
              "      <td>[drove, saw, new, decide, eat, middle, black, ...</td>\n",
              "      <td>[drive, saw, new, decide, eat, middle, black, ...</td>\n",
              "      <td>drive saw new decide eat middle black hair sti...</td>\n",
              "    </tr>\n",
              "    <tr>\n",
              "      <th>9</th>\n",
              "      <td>I love this target! The store is always clean ...</td>\n",
              "      <td>5.0</td>\n",
              "      <td>love store always clean fully staff always sup...</td>\n",
              "      <td>[love, store, always, clean, fully, staff, alw...</td>\n",
              "      <td>[love, store, always, clean, fully, staff, alw...</td>\n",
              "      <td>love store always clean fully staff always sup...</td>\n",
              "    </tr>\n",
              "  </tbody>\n",
              "</table>\n",
              "</div>"
            ],
            "text/plain": [
              "                                                text  ...                                      stemmed_clean\n",
              "1  Kyle did a fantastic job. For starters, you ca...  ...  kyle fantastic schedule appointment completely...\n",
              "2  In a way I'm glad for all the low reviews here...  ...  way glad low review keep crowd actually one fa...\n",
              "3  The worst Uhaul location in the country, they ...  ...  bad uhaul location lie put fuel believe someth...\n",
              "4  I've been coming here for about 2 years, and I...  ...  come great haircut every hand best value hair cut\n",
              "5  Great service! We're visiting from The States ...  ...  great visit state friend crack screen freak ca...\n",
              "6  Wow! Awesome service and professionalism! Afte...  ...  awesome service schedule week due crazy guy sh...\n",
              "7  I have to say my experience from beginning to ...  ...  say experience begin end nothing less come war...\n",
              "8  Drove by saw this new shop, decide to eat here...  ...  drive saw new decide eat middle black hair sti...\n",
              "9  I love this target! The store is always clean ...  ...  love store always clean fully staff always sup...\n",
              "\n",
              "[9 rows x 6 columns]"
            ]
          },
          "metadata": {
            "tags": []
          },
          "execution_count": 43
        }
      ]
    },
    {
      "cell_type": "code",
      "metadata": {
        "colab": {
          "base_uri": "https://localhost:8080/",
          "height": 618
        },
        "id": "WbMzQwvFyLmG",
        "outputId": "31fc1324-261b-4daf-f449-5ba8a9a7959b"
      },
      "source": [
        "#path = \"/content/drive/MyDrive/182_nlp/lemma_tokenizeddf.csv\"\n",
        "path = \"/dataframes/lemma_tokenizeddf.csv\"\n",
        "cleaned_data = pd.read_csv(path)\n",
        "cleaned_data.head()"
      ],
      "execution_count": null,
      "outputs": [
        {
          "output_type": "execute_result",
          "data": {
            "text/html": [
              "<div>\n",
              "<style scoped>\n",
              "    .dataframe tbody tr th:only-of-type {\n",
              "        vertical-align: middle;\n",
              "    }\n",
              "\n",
              "    .dataframe tbody tr th {\n",
              "        vertical-align: top;\n",
              "    }\n",
              "\n",
              "    .dataframe thead th {\n",
              "        text-align: right;\n",
              "    }\n",
              "</style>\n",
              "<table border=\"1\" class=\"dataframe\">\n",
              "  <thead>\n",
              "    <tr style=\"text-align: right;\">\n",
              "      <th></th>\n",
              "      <th>Unnamed: 0</th>\n",
              "      <th>text</th>\n",
              "      <th>stars</th>\n",
              "      <th>cleaned</th>\n",
              "      <th>tokenized</th>\n",
              "      <th>stemmed</th>\n",
              "      <th>stemmed_clean</th>\n",
              "    </tr>\n",
              "  </thead>\n",
              "  <tbody>\n",
              "    <tr>\n",
              "      <th>0</th>\n",
              "      <td>0</td>\n",
              "      <td>Sam has twice come to my office.  First it was...</td>\n",
              "      <td>5.0</td>\n",
              "      <td>sam twice come first repair fairly large repai...</td>\n",
              "      <td>['sam', 'twice', 'come', 'first', 'repair', 'f...</td>\n",
              "      <td>['sam', 'twice', 'come', 'first', 'repair', 'f...</td>\n",
              "      <td>sam twice come first repair fairly large repai...</td>\n",
              "    </tr>\n",
              "    <tr>\n",
              "      <th>1</th>\n",
              "      <td>1</td>\n",
              "      <td>I have 3 chronically ill children and setting ...</td>\n",
              "      <td>5.0</td>\n",
              "      <td>chronically ill children setting appointments ...</td>\n",
              "      <td>['chronically', 'ill', 'children', 'setting', ...</td>\n",
              "      <td>['chronically', 'ill', 'child', 'set', 'appoin...</td>\n",
              "      <td>chronically ill child set appointment always n...</td>\n",
              "    </tr>\n",
              "    <tr>\n",
              "      <th>2</th>\n",
              "      <td>2</td>\n",
              "      <td>Although prices were right, I was a bit disapp...</td>\n",
              "      <td>3.0</td>\n",
              "      <td>although prices bit disappointed experience we...</td>\n",
              "      <td>['although', 'prices', 'bit', 'disappointed', ...</td>\n",
              "      <td>['although', 'price', 'bit', 'disappointed', '...</td>\n",
              "      <td>although price bit disappointed experience go ...</td>\n",
              "    </tr>\n",
              "    <tr>\n",
              "      <th>3</th>\n",
              "      <td>3</td>\n",
              "      <td>NOT happy with the service at all. I took my w...</td>\n",
              "      <td>1.0</td>\n",
              "      <td>happy service took watch get new battery picke...</td>\n",
              "      <td>['happy', 'service', 'took', 'watch', 'get', '...</td>\n",
              "      <td>['happy', 'service', 'take', 'watch', 'get', '...</td>\n",
              "      <td>happy service take watch get new battery pick ...</td>\n",
              "    </tr>\n",
              "    <tr>\n",
              "      <th>4</th>\n",
              "      <td>4</td>\n",
              "      <td>Raelyn is the best waxer ever! I have been com...</td>\n",
              "      <td>5.0</td>\n",
              "      <td>raelyn best waxer coming years absolute fun pe...</td>\n",
              "      <td>['raelyn', 'best', 'waxer', 'coming', 'years',...</td>\n",
              "      <td>['raelyn', 'best', 'waxer', 'come', 'year', 'a...</td>\n",
              "      <td>raelyn best waxer come year absolute fun perso...</td>\n",
              "    </tr>\n",
              "  </tbody>\n",
              "</table>\n",
              "</div>"
            ],
            "text/plain": [
              "   Unnamed: 0  ...                                      stemmed_clean\n",
              "0           0  ...  sam twice come first repair fairly large repai...\n",
              "1           1  ...  chronically ill child set appointment always n...\n",
              "2           2  ...  although price bit disappointed experience go ...\n",
              "3           3  ...  happy service take watch get new battery pick ...\n",
              "4           4  ...  raelyn best waxer come year absolute fun perso...\n",
              "\n",
              "[5 rows x 7 columns]"
            ]
          },
          "metadata": {
            "tags": []
          },
          "execution_count": 50
        }
      ]
    },
    {
      "cell_type": "markdown",
      "metadata": {
        "id": "MdeWPj_1V9m2"
      },
      "source": [
        "Run Roberta on dataset https://pytorch.org/hub/pytorch_fairseq_roberta/"
      ]
    },
    {
      "cell_type": "code",
      "metadata": {
        "id": "3JYskEYC5ILT",
        "colab": {
          "base_uri": "https://localhost:8080/"
        },
        "outputId": "356d5c5e-062c-4c74-c1e1-7862631ee1ef"
      },
      "source": [
        "!pip install transformers\n",
        "from transformers import RobertaTokenizer\n",
        "tokenizer = RobertaTokenizer.from_pretrained(\"roberta-base\")\n"
      ],
      "execution_count": null,
      "outputs": [
        {
          "output_type": "stream",
          "text": [
            "Requirement already satisfied: transformers in /usr/local/lib/python3.7/dist-packages (4.4.2)\n",
            "Requirement already satisfied: requests in /usr/local/lib/python3.7/dist-packages (from transformers) (2.23.0)\n",
            "Requirement already satisfied: tokenizers<0.11,>=0.10.1 in /usr/local/lib/python3.7/dist-packages (from transformers) (0.10.1)\n",
            "Requirement already satisfied: filelock in /usr/local/lib/python3.7/dist-packages (from transformers) (3.0.12)\n",
            "Requirement already satisfied: tqdm>=4.27 in /usr/local/lib/python3.7/dist-packages (from transformers) (4.41.1)\n",
            "Requirement already satisfied: numpy>=1.17 in /usr/local/lib/python3.7/dist-packages (from transformers) (1.19.5)\n",
            "Requirement already satisfied: importlib-metadata; python_version < \"3.8\" in /usr/local/lib/python3.7/dist-packages (from transformers) (3.7.2)\n",
            "Requirement already satisfied: packaging in /usr/local/lib/python3.7/dist-packages (from transformers) (20.9)\n",
            "Requirement already satisfied: sacremoses in /usr/local/lib/python3.7/dist-packages (from transformers) (0.0.43)\n",
            "Requirement already satisfied: regex!=2019.12.17 in /usr/local/lib/python3.7/dist-packages (from transformers) (2019.12.20)\n",
            "Requirement already satisfied: urllib3!=1.25.0,!=1.25.1,<1.26,>=1.21.1 in /usr/local/lib/python3.7/dist-packages (from requests->transformers) (1.24.3)\n",
            "Requirement already satisfied: certifi>=2017.4.17 in /usr/local/lib/python3.7/dist-packages (from requests->transformers) (2020.12.5)\n",
            "Requirement already satisfied: chardet<4,>=3.0.2 in /usr/local/lib/python3.7/dist-packages (from requests->transformers) (3.0.4)\n",
            "Requirement already satisfied: idna<3,>=2.5 in /usr/local/lib/python3.7/dist-packages (from requests->transformers) (2.10)\n",
            "Requirement already satisfied: zipp>=0.5 in /usr/local/lib/python3.7/dist-packages (from importlib-metadata; python_version < \"3.8\"->transformers) (3.4.1)\n",
            "Requirement already satisfied: typing-extensions>=3.6.4; python_version < \"3.8\" in /usr/local/lib/python3.7/dist-packages (from importlib-metadata; python_version < \"3.8\"->transformers) (3.7.4.3)\n",
            "Requirement already satisfied: pyparsing>=2.0.2 in /usr/local/lib/python3.7/dist-packages (from packaging->transformers) (2.4.7)\n",
            "Requirement already satisfied: joblib in /usr/local/lib/python3.7/dist-packages (from sacremoses->transformers) (1.0.1)\n",
            "Requirement already satisfied: six in /usr/local/lib/python3.7/dist-packages (from sacremoses->transformers) (1.15.0)\n",
            "Requirement already satisfied: click in /usr/local/lib/python3.7/dist-packages (from sacremoses->transformers) (7.1.2)\n"
          ],
          "name": "stdout"
        }
      ]
    },
    {
      "cell_type": "code",
      "metadata": {
        "id": "wQArSLTqVQRQ"
      },
      "source": [
        "from transformers import RobertaModel\n",
        "\n",
        "class CustomRobertatModel(nn.Module):\n",
        "    def __init__(self,num_labels):\n",
        "        super(CustomRobertatModel,self).__init__()\n",
        "        self.num_labels = num_labels\n",
        "        self.roberta = RobertaModel.from_pretrained(\"roberta-base\")\n",
        "        self.dropout = nn.Dropout(.05)\n",
        "        self.classifier = nn.Linear(768, num_labels)\n",
        "        \n",
        "    def forward(self, input_ids, token_type_ids=None, attention_mask=None, labels=None):\n",
        "        _ , pooled_output = self.roberta(input_ids, token_type_ids, attention_mask)\n",
        "        logits = self.classifier(pooled_output)        \n",
        "        return logits\n",
        "      "
      ],
      "execution_count": null,
      "outputs": []
    },
    {
      "cell_type": "code",
      "metadata": {
        "id": "RBMUOe7jAaov"
      },
      "source": [
        "def preprocess_data(df, output_name):\n",
        "  cleaned_data = clean_data(df)\n",
        "\n",
        "  results = cleaned_data['tokenized'].apply(lemmatize_sentence)\n",
        "  cleaned_data['stemmed'] = list(zip(*results))[0]\n",
        "  cleaned_data['stemmed_clean'] = list(zip(*results))[1]\n",
        "  cleaned_data[['text', 'stars', 'stemmed_clean']].to_csv(output_name)\n"
      ],
      "execution_count": null,
      "outputs": []
    },
    {
      "cell_type": "code",
      "metadata": {
        "id": "wcK0zZyQeG8z"
      },
      "source": [
        "def json_to_csv(file_path):\n",
        "  data = []\n",
        "  with open(file_path, 'r', encoding='utf-8') as f:\n",
        "    for item in jsonlines.Reader(f):\n",
        "      data.append(item)\n",
        "      raw_data_df = pd.DataFrame(data)\n",
        "\n",
        "  raw_df = pd.read_json(path_or_buf=file_path, lines=True)\n",
        "  raw_df['tokenized_sents'] = raw_data_df['text'].apply(nltk.word_tokenize)\n",
        "  raw_df.to_csv(\"tokenized_raw_data_df.csv\")"
      ],
      "execution_count": null,
      "outputs": []
    },
    {
      "cell_type": "code",
      "metadata": {
        "id": "nr0vQhkjjhi9"
      },
      "source": [
        "train_stemmed = cleaned_data[['text', 'stars', 'stemmed_clean']]\n",
        "train_stemmed.to_csv('training_stemmed.csv')"
      ],
      "execution_count": null,
      "outputs": []
    },
    {
      "cell_type": "code",
      "metadata": {
        "colab": {
          "base_uri": "https://localhost:8080/",
          "height": 201
        },
        "id": "NtUQeep1jrIA",
        "outputId": "e390503c-8eaa-4d93-bd90-472d27c12f01"
      },
      "source": [
        "# clean and stem augmented review\n",
        "#path = \"/content/drive/MyDrive/182_nlp/aug_threes.csv\"\n",
        "path = \"/dataframes/lemma_tokenizeddf.csv\"\n",
        "aug_threes = pd.read_csv(path).iloc[:5158]\n",
        "aug_threes.head()"
      ],
      "execution_count": null,
      "outputs": [
        {
          "output_type": "execute_result",
          "data": {
            "text/html": [
              "<div>\n",
              "<style scoped>\n",
              "    .dataframe tbody tr th:only-of-type {\n",
              "        vertical-align: middle;\n",
              "    }\n",
              "\n",
              "    .dataframe tbody tr th {\n",
              "        vertical-align: top;\n",
              "    }\n",
              "\n",
              "    .dataframe thead th {\n",
              "        text-align: right;\n",
              "    }\n",
              "</style>\n",
              "<table border=\"1\" class=\"dataframe\">\n",
              "  <thead>\n",
              "    <tr style=\"text-align: right;\">\n",
              "      <th></th>\n",
              "      <th>text</th>\n",
              "      <th>stars</th>\n",
              "    </tr>\n",
              "  </thead>\n",
              "  <tbody>\n",
              "    <tr>\n",
              "      <th>0</th>\n",
              "      <td>Although prices were right, I was a bit disapp...</td>\n",
              "      <td>3</td>\n",
              "    </tr>\n",
              "    <tr>\n",
              "      <th>1</th>\n",
              "      <td>Food not Mexican average on. These were nice p...</td>\n",
              "      <td>3</td>\n",
              "    </tr>\n",
              "    <tr>\n",
              "      <th>2</th>\n",
              "      <td>Had their burrito steak the Year Down field Up...</td>\n",
              "      <td>3</td>\n",
              "    </tr>\n",
              "    <tr>\n",
              "      <th>3</th>\n",
              "      <td>Good pretty! After having lunch and drinks som...</td>\n",
              "      <td>3</td>\n",
              "    </tr>\n",
              "    <tr>\n",
              "      <th>4</th>\n",
              "      <td>Stopped off for a drink and a late lunch. ?? T...</td>\n",
              "      <td>3</td>\n",
              "    </tr>\n",
              "  </tbody>\n",
              "</table>\n",
              "</div>"
            ],
            "text/plain": [
              "                                                text  stars\n",
              "0  Although prices were right, I was a bit disapp...      3\n",
              "1  Food not Mexican average on. These were nice p...      3\n",
              "2  Had their burrito steak the Year Down field Up...      3\n",
              "3  Good pretty! After having lunch and drinks som...      3\n",
              "4  Stopped off for a drink and a late lunch. ?? T...      3"
            ]
          },
          "metadata": {
            "tags": []
          },
          "execution_count": 72
        }
      ]
    },
    {
      "cell_type": "code",
      "metadata": {
        "colab": {
          "base_uri": "https://localhost:8080/",
          "height": 254
        },
        "id": "B-Exf9MJ-w05",
        "outputId": "9c63f766-6fef-4a53-f119-4db84aeef54a"
      },
      "source": [
        "#path = \"/content/drive/MyDrive/182_nlp/aug_twos.csv\"\n",
        "path = \"/dataframes/aug_twos.csv\"\n",
        "aug_twos = pd.read_csv(path).iloc[:1550]\n",
        "aug_twos.head()"
      ],
      "execution_count": null,
      "outputs": [
        {
          "output_type": "stream",
          "text": [
            "/usr/local/lib/python3.7/dist-packages/IPython/core/interactiveshell.py:2718: DtypeWarning: Columns (0) have mixed types.Specify dtype option on import or set low_memory=False.\n",
            "  interactivity=interactivity, compiler=compiler, result=result)\n"
          ],
          "name": "stderr"
        },
        {
          "output_type": "execute_result",
          "data": {
            "text/html": [
              "<div>\n",
              "<style scoped>\n",
              "    .dataframe tbody tr th:only-of-type {\n",
              "        vertical-align: middle;\n",
              "    }\n",
              "\n",
              "    .dataframe tbody tr th {\n",
              "        vertical-align: top;\n",
              "    }\n",
              "\n",
              "    .dataframe thead th {\n",
              "        text-align: right;\n",
              "    }\n",
              "</style>\n",
              "<table border=\"1\" class=\"dataframe\">\n",
              "  <thead>\n",
              "    <tr style=\"text-align: right;\">\n",
              "      <th></th>\n",
              "      <th>text</th>\n",
              "      <th>stars</th>\n",
              "    </tr>\n",
              "  </thead>\n",
              "  <tbody>\n",
              "    <tr>\n",
              "      <th>0</th>\n",
              "      <td>The food was over cooked &lt;unk&gt; too expensive, ...</td>\n",
              "      <td>2</td>\n",
              "    </tr>\n",
              "    <tr>\n",
              "      <th>1</th>\n",
              "      <td>Ordered and Cali octopus bowls, I still don ' ...</td>\n",
              "      <td>2</td>\n",
              "    </tr>\n",
              "    <tr>\n",
              "      <th>2</th>\n",
              "      <td>That after you guys read this you too might wo...</td>\n",
              "      <td>2</td>\n",
              "    </tr>\n",
              "    <tr>\n",
              "      <th>3</th>\n",
              "      <td>Smoke filled and, c enclosed can, many are rep...</td>\n",
              "      <td>2</td>\n",
              "    </tr>\n",
              "    <tr>\n",
              "      <th>4</th>\n",
              "      <td>My I fiance to really this great place out qui...</td>\n",
              "      <td>2</td>\n",
              "    </tr>\n",
              "  </tbody>\n",
              "</table>\n",
              "</div>"
            ],
            "text/plain": [
              "                                                text  stars\n",
              "0  The food was over cooked <unk> too expensive, ...      2\n",
              "1  Ordered and Cali octopus bowls, I still don ' ...      2\n",
              "2  That after you guys read this you too might wo...      2\n",
              "3  Smoke filled and, c enclosed can, many are rep...      2\n",
              "4  My I fiance to really this great place out qui...      2"
            ]
          },
          "metadata": {
            "tags": []
          },
          "execution_count": 80
        }
      ]
    },
    {
      "cell_type": "code",
      "metadata": {
        "colab": {
          "base_uri": "https://localhost:8080/"
        },
        "id": "dLfzK6a3-1wU",
        "outputId": "70e8eee3-6587-42a3-b289-ac932fd53f98"
      },
      "source": [
        "preprocess_data(aug_twos, 'aug_twos_stemmed.csv')"
      ],
      "execution_count": null,
      "outputs": [
        {
          "output_type": "stream",
          "text": [
            "/usr/local/lib/python3.7/dist-packages/numpy/core/_asarray.py:83: VisibleDeprecationWarning: Creating an ndarray from ragged nested sequences (which is a list-or-tuple of lists-or-tuples-or ndarrays with different lengths or shapes) is deprecated. If you meant to do this, you must specify 'dtype=object' when creating the ndarray\n",
            "  return array(a, dtype, copy=False, order=order)\n"
          ],
          "name": "stderr"
        }
      ]
    },
    {
      "cell_type": "code",
      "metadata": {
        "colab": {
          "base_uri": "https://localhost:8080/"
        },
        "id": "XaKmFd9s-4bu",
        "outputId": "f0bf128f-4146-4678-8cdf-4fa28db45796"
      },
      "source": [
        "preprocess_data(aug_threes, 'aug_threes_stemmed.csv')"
      ],
      "execution_count": null,
      "outputs": [
        {
          "output_type": "stream",
          "text": [
            "/usr/local/lib/python3.7/dist-packages/numpy/core/_asarray.py:83: VisibleDeprecationWarning: Creating an ndarray from ragged nested sequences (which is a list-or-tuple of lists-or-tuples-or ndarrays with different lengths or shapes) is deprecated. If you meant to do this, you must specify 'dtype=object' when creating the ndarray\n",
            "  return array(a, dtype, copy=False, order=order)\n"
          ],
          "name": "stderr"
        }
      ]
    }
  ]
}